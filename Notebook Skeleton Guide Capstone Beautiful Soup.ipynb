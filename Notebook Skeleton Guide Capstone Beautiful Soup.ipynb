{
 "cells": [
  {
   "cell_type": "markdown",
   "metadata": {},
   "source": [
    "# Capstone Webscrapping using BeautifulSoup\n",
    "\n",
    "This notebook contains guidances & tasks on the data processing for the application\n",
    "\n",
    "## Background\n",
    "\n",
    "I'll be doing a web-scrapping for the **10 biggest U.S box office movies** based on website https://www.imdb.com/. What I'm about to do might be different than the actual task given by the instructor, but the information list that'll be filtered are similar (**title** , **imdb rating** , **metascore**, and **votes**) with an addition of **Gross-rate** per title.\n",
    "\n",
    "## Requesting the Data and Creating a BeautifulSoup\n",
    "\n",
    "Let's begin with requesting the web from the site with `get` method."
   ]
  },
  {
   "cell_type": "code",
   "execution_count": 1,
   "metadata": {
    "ExecuteTime": {
     "end_time": "2020-01-13T05:12:23.275508Z",
     "start_time": "2020-01-13T05:12:20.009898Z"
    }
   },
   "outputs": [],
   "source": [
    "import requests\n",
    "\n",
    "url_get = requests.get('https://www.imdb.com/search/title/?release_date=2021-01-01,2021-12-31&sort=boxoffice_gross_us,desc')"
   ]
  },
  {
   "cell_type": "markdown",
   "metadata": {},
   "source": [
    "To visualize what exactly you get from the `request.get`, we can use .content so ee what we exactly get, in here i slice it so it won't make our screen full of the html we get from the page. You can delete the slicing if you want to see what we fully get."
   ]
  },
  {
   "cell_type": "code",
   "execution_count": 2,
   "metadata": {
    "ExecuteTime": {
     "end_time": "2020-01-13T05:12:23.290648Z",
     "start_time": "2020-01-13T05:12:23.277650Z"
    }
   },
   "outputs": [
    {
     "data": {
      "text/plain": [
       "b'\\n<!DOCTYPE html>\\n<html\\n    xmlns:og=\"http://ogp.me/ns#\"\\n    xmlns:fb=\"http://www.facebook.com/2008/fbml\">\\n    <head>\\n         \\n\\n        <meta charset=\"utf-8\">\\n        <meta http-equiv=\"X-UA-Compatible\" content=\"IE=edge\">\\n\\n\\n\\n\\n        <script type=\"text/javascript\">var IMDbTimer={starttime: new Date().getTime(),pt:\\'java\\'};</script>\\n\\n<script>\\n    if (typeof uet == \\'function\\') {\\n      uet(\"bb\", \"LoadTitle\", {wb: 1});\\n    }\\n</script>\\n  <script>(function(t){ (t.events = t.events || {})[\"csm_head_pre_'"
      ]
     },
     "execution_count": 2,
     "metadata": {},
     "output_type": "execute_result"
    }
   ],
   "source": [
    "url_get.content[1:500]"
   ]
  },
  {
   "cell_type": "markdown",
   "metadata": {},
   "source": [
    "As we can see we get a very unstructured and complex html, which actually contains the codes needed to show the webpages on your web browser. But we as human still confused what and where we can use that piece of code, so here where we use the beautifulsoup. Beautiful soup class will result a beautifulsoup object. Beautiful Soup transforms a complex HTML document into a complex tree of Python objects. \n",
    "\n",
    "Let's make Beautiful soup object and feel free to explore the object here."
   ]
  },
  {
   "cell_type": "code",
   "execution_count": 3,
   "metadata": {
    "ExecuteTime": {
     "end_time": "2020-01-13T05:12:23.808122Z",
     "start_time": "2020-01-13T05:12:23.292610Z"
    }
   },
   "outputs": [],
   "source": [
    "from bs4 import BeautifulSoup \n",
    "\n",
    "soup = BeautifulSoup(url_get.content,\"lxml\")"
   ]
  },
  {
   "cell_type": "markdown",
   "metadata": {},
   "source": [
    "## Finding the right key to scrap the data & Extracting the right information"
   ]
  },
  {
   "cell_type": "markdown",
   "metadata": {},
   "source": [
    "Find the key and put the key into the `.find()` Put all the exploring the right key at this cell."
   ]
  },
  {
   "cell_type": "code",
   "execution_count": 4,
   "metadata": {
    "ExecuteTime": {
     "end_time": "2020-01-13T05:12:23.878904Z",
     "start_time": "2020-01-13T05:12:23.854974Z"
    }
   },
   "outputs": [
    {
     "name": "stdout",
     "output_type": "stream",
     "text": [
      "div class=\"lister list detail sub-list\">\n",
      " <div class=\"lister-list\">\n",
      "  <div class=\"lister-item mode-advanced\">\n",
      "   <div class=\"lister-top-right\">\n",
      "    <div class=\"ribbonize\" data-caller=\"filmosearch\" data-tconst=\"tt10872600\">\n",
      "    </div>\n",
      "   </div>\n",
      "   <div class=\"lister-item-image float-left\">\n",
      "    <a href=\"/title/tt10872600/\">\n",
      "     <img alt=\"Spider-Man: No Way Home\" class=\"loadlate\" data-tconst=\"tt10872600\" height=\"98\" loadlate=\"https://m.media-amazon.com/images/M/MV5BZWMyYzFjYTYtNTRjYi00OGExLWE2Yzg\n"
     ]
    }
   ],
   "source": [
    "table = soup.find('div', attrs={'class':'lister list detail sub-list'})\n",
    "print(table.prettify()[1:500])"
   ]
  },
  {
   "cell_type": "markdown",
   "metadata": {},
   "source": [
    "Finding row length to check if the class we select have the same length as the total titles per page, which is 50 per page."
   ]
  },
  {
   "cell_type": "code",
   "execution_count": 5,
   "metadata": {},
   "outputs": [],
   "source": [
    "row = table.find_all('div', attrs={'class':'lister-item mode-advanced'})\n",
    "row_length = len(row)"
   ]
  },
  {
   "cell_type": "code",
   "execution_count": 6,
   "metadata": {},
   "outputs": [
    {
     "data": {
      "text/plain": [
       "50"
      ]
     },
     "execution_count": 6,
     "metadata": {},
     "output_type": "execute_result"
    }
   ],
   "source": [
    "row_length"
   ]
  },
  {
   "cell_type": "markdown",
   "metadata": {},
   "source": [
    "Do the scrapping process here. However, since we only taking the top 10 from the entire title list and imdb already has a filter to order the titles by their gross-rate. We will use **range(0,10)** instead of the row_length."
   ]
  },
  {
   "cell_type": "code",
   "execution_count": 7,
   "metadata": {},
   "outputs": [
    {
     "data": {
      "text/plain": [
       "[<div class=\"inline-block ratings-metascore\">\n",
       " <span class=\"metascore favorable\">71        </span>\n",
       "         Metascore\n",
       "             </div>,\n",
       " <div class=\"inline-block ratings-metascore\">\n",
       " <span class=\"metascore mixed\">49        </span>\n",
       "         Metascore\n",
       "             </div>]"
      ]
     },
     "execution_count": 7,
     "metadata": {},
     "output_type": "execute_result"
    }
   ],
   "source": [
    "soup.find_all('div', attrs={'class':'inline-block ratings-metascore'})[1:3]"
   ]
  },
  {
   "cell_type": "markdown",
   "metadata": {},
   "source": [
    "As we can see, the class of 'metascore' are slightly different based on the score that they have. \n",
    "- **>60 score** will be labelled as _metascore favorable_\n",
    "- **40>score<60** will be labelled as _metascore fixed_\n",
    "\n",
    "So for easier extraction, I'll change each element into strings and extract the integer using re.findall() method."
   ]
  },
  {
   "cell_type": "code",
   "execution_count": 8,
   "metadata": {
    "ExecuteTime": {
     "end_time": "2020-01-13T05:12:24.008256Z",
     "start_time": "2020-01-13T05:12:23.980358Z"
    }
   },
   "outputs": [
    {
     "data": {
      "text/plain": [
       "['71', '71', '49', '67', '58', '52', '49', '68', '62', '74']"
      ]
     },
     "execution_count": 8,
     "metadata": {},
     "output_type": "execute_result"
    }
   ],
   "source": [
    "# For metascore list\n",
    "import re\n",
    "list_metascore = [] #to store the score\n",
    "\n",
    "for i in range(0,10):\n",
    "    # \n",
    "    meta = str(soup.find_all('div', attrs={'class':'inline-block ratings-metascore'})[i])\n",
    "    list_metascore.append(re.findall(r'\\b\\d+\\b', meta)[0])\n",
    "\n",
    "list_metascore"
   ]
  },
  {
   "cell_type": "markdown",
   "metadata": {},
   "source": [
    "Rather than using .find_all() method, I'll use .select() instead for easier indexing."
   ]
  },
  {
   "cell_type": "code",
   "execution_count": 9,
   "metadata": {},
   "outputs": [],
   "source": [
    "#For other information lists\n",
    "list_title = []\n",
    "list_rating = []\n",
    "list_vote = []\n",
    "list_gross = []\n",
    "\n",
    "for i in range(0,10):\n",
    "    products = soup.select(\".lister-item.mode-advanced\")\n",
    "    title = products[i].select('a')[1].text\n",
    "    list_title.append(title)\n",
    "\n",
    "for i in range(0,10):\n",
    "    products = soup.select(\".lister-item.mode-advanced\")\n",
    "    rating = products[i].select('strong')[0].text\n",
    "    list_rating.append(rating)\n",
    "\n",
    "for i in range(0,10):\n",
    "    products = soup.select(\".sort-num_votes-visible\")\n",
    "    votes = products[i].select('span')[1].text\n",
    "    list_vote.append(votes)\n",
    "\n",
    "for i in range(0,10):\n",
    "    products = soup.select(\".sort-num_votes-visible\")\n",
    "    gross = products[i].select('span')[4]['data-value']\n",
    "    list_gross.append(gross)   "
   ]
  },
  {
   "cell_type": "markdown",
   "metadata": {},
   "source": [
    "title , imdb rating , metascore, and votes"
   ]
  },
  {
   "cell_type": "code",
   "execution_count": 10,
   "metadata": {},
   "outputs": [
    {
     "data": {
      "text/plain": [
       "[('Spider-Man: No Way Home', '8.3', '71', '673,707', '804,747,988'),\n",
       " ('Shang-Chi and the Legend of the Ten Rings',\n",
       "  '7.4',\n",
       "  '71',\n",
       "  '361,190',\n",
       "  '224,543,292'),\n",
       " ('Venom: Let There Be Carnage', '5.9', '49', '209,647', '213,550,366'),\n",
       " ('Black Widow', '6.7', '67', '358,818', '183,651,655'),\n",
       " ('F9', '5.2', '58', '126,221', '173,202,780'),\n",
       " ('Eternals', '6.3', '52', '318,599', '164,870,234'),\n",
       " ('Sing 2', '7.4', '49', '55,767', '162,790,990'),\n",
       " ('No Time to Die', '7.3', '68', '373,258', '160,869,031'),\n",
       " ('Free Guy', '7.1', '62', '348,953', '121,626,598'),\n",
       " ('Dune: Part One', '8.0', '74', '588,179', '108,327,830')]"
      ]
     },
     "execution_count": 10,
     "metadata": {},
     "output_type": "execute_result"
    }
   ],
   "source": [
    "temp = list(zip(list_title,list_rating,list_metascore,list_vote,list_gross))\n",
    "temp"
   ]
  },
  {
   "cell_type": "markdown",
   "metadata": {},
   "source": [
    "## Creating data frame & Data wrangling"
   ]
  },
  {
   "cell_type": "markdown",
   "metadata": {},
   "source": [
    "Put the array into dataframe"
   ]
  },
  {
   "cell_type": "code",
   "execution_count": 11,
   "metadata": {
    "ExecuteTime": {
     "end_time": "2020-01-13T05:12:41.517372Z",
     "start_time": "2020-01-13T05:12:29.130015Z"
    }
   },
   "outputs": [
    {
     "data": {
      "text/plain": [
       "Title        object\n",
       "Rating       object\n",
       "Metascore    object\n",
       "Votes        object\n",
       "Gross($)     object\n",
       "dtype: object"
      ]
     },
     "execution_count": 11,
     "metadata": {},
     "output_type": "execute_result"
    }
   ],
   "source": [
    "import pandas as pd\n",
    "\n",
    "df = pd.DataFrame(temp,columns=('Title','Rating','Metascore','Votes','Gross($)'))\n",
    "df.dtypes"
   ]
  },
  {
   "cell_type": "markdown",
   "metadata": {},
   "source": [
    "Since all the data types are still in object, we have to change them to the supposed type."
   ]
  },
  {
   "cell_type": "code",
   "execution_count": 12,
   "metadata": {
    "ExecuteTime": {
     "end_time": "2020-01-13T05:12:59.165559Z",
     "start_time": "2020-01-13T05:12:58.910012Z"
    }
   },
   "outputs": [],
   "source": [
    "df['Title'] = df['Title'].astype('str')\n",
    "df['Rating'] = df['Rating'].astype('float64')\n",
    "df['Metascore'] = df['Metascore'].astype('int64')\n",
    "df['Votes'] = df['Votes'].str.replace(',','')\n",
    "df['Votes'] = df['Votes'].astype('int64')\n",
    "df['Gross($)'] = df['Gross($)'].str.replace(',','')\n",
    "df['Gross($)'] = df['Gross($)'].astype('int64')"
   ]
  },
  {
   "cell_type": "code",
   "execution_count": 13,
   "metadata": {},
   "outputs": [
    {
     "data": {
      "text/plain": [
       "Title         object\n",
       "Rating       float64\n",
       "Metascore      int64\n",
       "Votes          int64\n",
       "Gross($)       int64\n",
       "dtype: object"
      ]
     },
     "execution_count": 13,
     "metadata": {},
     "output_type": "execute_result"
    }
   ],
   "source": [
    "df.dtypes"
   ]
  },
  {
   "cell_type": "code",
   "execution_count": 14,
   "metadata": {},
   "outputs": [
    {
     "data": {
      "text/html": [
       "<div>\n",
       "<style scoped>\n",
       "    .dataframe tbody tr th:only-of-type {\n",
       "        vertical-align: middle;\n",
       "    }\n",
       "\n",
       "    .dataframe tbody tr th {\n",
       "        vertical-align: top;\n",
       "    }\n",
       "\n",
       "    .dataframe thead th {\n",
       "        text-align: right;\n",
       "    }\n",
       "</style>\n",
       "<table border=\"1\" class=\"dataframe\">\n",
       "  <thead>\n",
       "    <tr style=\"text-align: right;\">\n",
       "      <th></th>\n",
       "      <th>Title</th>\n",
       "      <th>Rating</th>\n",
       "      <th>Metascore</th>\n",
       "      <th>Votes</th>\n",
       "      <th>Gross($)</th>\n",
       "    </tr>\n",
       "  </thead>\n",
       "  <tbody>\n",
       "    <tr>\n",
       "      <th>0</th>\n",
       "      <td>Spider-Man: No Way Home</td>\n",
       "      <td>8.3</td>\n",
       "      <td>71</td>\n",
       "      <td>673707</td>\n",
       "      <td>804747988</td>\n",
       "    </tr>\n",
       "    <tr>\n",
       "      <th>1</th>\n",
       "      <td>Shang-Chi and the Legend of the Ten Rings</td>\n",
       "      <td>7.4</td>\n",
       "      <td>71</td>\n",
       "      <td>361190</td>\n",
       "      <td>224543292</td>\n",
       "    </tr>\n",
       "    <tr>\n",
       "      <th>2</th>\n",
       "      <td>Venom: Let There Be Carnage</td>\n",
       "      <td>5.9</td>\n",
       "      <td>49</td>\n",
       "      <td>209647</td>\n",
       "      <td>213550366</td>\n",
       "    </tr>\n",
       "    <tr>\n",
       "      <th>3</th>\n",
       "      <td>Black Widow</td>\n",
       "      <td>6.7</td>\n",
       "      <td>67</td>\n",
       "      <td>358818</td>\n",
       "      <td>183651655</td>\n",
       "    </tr>\n",
       "    <tr>\n",
       "      <th>4</th>\n",
       "      <td>F9</td>\n",
       "      <td>5.2</td>\n",
       "      <td>58</td>\n",
       "      <td>126221</td>\n",
       "      <td>173202780</td>\n",
       "    </tr>\n",
       "  </tbody>\n",
       "</table>\n",
       "</div>"
      ],
      "text/plain": [
       "                                       Title  Rating  Metascore   Votes  \\\n",
       "0                    Spider-Man: No Way Home     8.3         71  673707   \n",
       "1  Shang-Chi and the Legend of the Ten Rings     7.4         71  361190   \n",
       "2                Venom: Let There Be Carnage     5.9         49  209647   \n",
       "3                                Black Widow     6.7         67  358818   \n",
       "4                                         F9     5.2         58  126221   \n",
       "\n",
       "    Gross($)  \n",
       "0  804747988  \n",
       "1  224543292  \n",
       "2  213550366  \n",
       "3  183651655  \n",
       "4  173202780  "
      ]
     },
     "execution_count": 14,
     "metadata": {},
     "output_type": "execute_result"
    }
   ],
   "source": [
    "df.head()"
   ]
  },
  {
   "cell_type": "markdown",
   "metadata": {},
   "source": [
    "### Implementing your webscrapping to the flask dashboard\n",
    "\n",
    "- Copy paste all of your web scrapping process to the desired position on the `app.py`\n",
    "- Changing the title of the dasboard at `index.html`"
   ]
  },
  {
   "cell_type": "markdown",
   "metadata": {},
   "source": [
    "## Finishing This Notebook with Your Analysis and Conclusion\n",
    "\n",
    "First you can do start with making the data visualisation. "
   ]
  },
  {
   "cell_type": "code",
   "execution_count": 15,
   "metadata": {
    "ExecuteTime": {
     "end_time": "2020-01-13T05:20:56.208237Z",
     "start_time": "2020-01-13T05:20:56.076043Z"
    }
   },
   "outputs": [],
   "source": [
    "import matplotlib.pyplot as plt\n",
    "import numpy as np\n",
    "plt.rcParams['font.family'] = \"serif\"\n",
    "plt.rcParams['font.size'] = 12"
   ]
  },
  {
   "cell_type": "code",
   "execution_count": 16,
   "metadata": {},
   "outputs": [
    {
     "data": {
      "text/plain": [
       "Text(0.5, 1.0, 'Gross($)')"
      ]
     },
     "execution_count": 16,
     "metadata": {},
     "output_type": "execute_result"
    },
    {
     "data": {
      "image/png": "[encoded data removed]",
      "text/plain": [
       "<Figure size 432x288 with 1 Axes>"
      ]
     },
     "metadata": {
      "needs_background": "light"
     },
     "output_type": "display_data"
    }
   ],
   "source": [
    "plt.style.use('ggplot')\n",
    "df_percent = pd.crosstab(index=df['Title'],columns='Gross($)',values=df['Gross($)'],aggfunc='sum',normalize=True).\\\n",
    "            sort_values(by='Gross($)',ascending=False)*100\n",
    "\n",
    "X = df_percent.index[::-1]\n",
    "Y = df_percent['Gross($)'][::-1]\n",
    "plt.barh(X ,Y, color=(0.2, 0.4, 0.6, 0.6))\n",
    "plt.xlabel(\"Percentage (%)\", fontweight='bold')                                                    \n",
    "plt.title(\"Gross($)\", fontweight='bold')"
   ]
  },
  {
   "cell_type": "markdown",
   "metadata": {},
   "source": [
    "## Conclusion 1\n",
    "Based on the plot above, **Spider-Man: No Way Home** almost take about 35% of total _Top 10 U.S Box-Office Grossing_."
   ]
  },
  {
   "cell_type": "markdown",
   "metadata": {},
   "source": [
    "-------------------------------------------------------------------------------------------------------------------------------"
   ]
  },
  {
   "cell_type": "code",
   "execution_count": 17,
   "metadata": {},
   "outputs": [
    {
     "data": {
      "text/plain": [
       "Text(0.5, 1.0, 'Votes')"
      ]
     },
     "execution_count": 17,
     "metadata": {},
     "output_type": "execute_result"
    },
    {
     "data": {
      "image/png": "[encoded data removed]",
      "text/plain": [
       "<Figure size 432x288 with 1 Axes>"
      ]
     },
     "metadata": {
      "needs_background": "light"
     },
     "output_type": "display_data"
    }
   ],
   "source": [
    "df_votes = pd.crosstab(index=df['Title'],columns='Votes',values=df['Votes'],aggfunc='sum',normalize=True).\\\n",
    "            sort_values(by='Votes',ascending=False)*100\n",
    "\n",
    "X2 = df_votes.index[::-1]\n",
    "Y2 = df_votes['Votes'][::-1]\n",
    "plt.barh(X2 ,Y2, color='red', alpha=0.6)\n",
    "plt.xlabel(\"Percentage (%)\", fontweight='bold')                                                    \n",
    "plt.title(\"Votes\", fontweight='bold')"
   ]
  },
  {
   "cell_type": "markdown",
   "metadata": {},
   "source": [
    "## Conclusion 2\n",
    "\n",
    "However, in contrast with by its _Gross%_ value, we can see that **Dune: Part One** has the second-highest _Votes_ count percentage with almost 17,5%.\n",
    "\n",
    "This might be because Dune's late popularity that has increased after the movie won 6 Oscar's Prizes followed by its availability in multiple streaming platforms.(https://www.townandcountrymag.com/leisure/arts-and-culture/a39016301/how-to-watch-dune-timothee-chalamet/)"
   ]
  },
  {
   "cell_type": "markdown",
   "metadata": {},
   "source": [
    "-------------------------------------------------------------------------------------------------------------------------------"
   ]
  },
  {
   "cell_type": "markdown",
   "metadata": {},
   "source": [
    "To make sure, we can see the Rating between Viewers and Reputed Critics (_Metascore_)"
   ]
  },
  {
   "cell_type": "code",
   "execution_count": 18,
   "metadata": {
    "scrolled": true
   },
   "outputs": [],
   "source": [
    "import warnings\n",
    "warnings.filterwarnings('ignore')\n",
    "\n",
    "#Since Rating and Metascore have a different values, we will convert Rating's value to match the Metascore's value\n",
    "temp_r = list(zip(list_title,list_rating,list_metascore))\n",
    "df2 = pd.DataFrame(temp_r,columns=('Title','Rating','Metascore'))\n",
    "df2['Rating'] = df2['Rating'].str.replace('.','')\n",
    "df2['Rating'] = df2['Rating'].astype('int64')\n",
    "df2['Metascore'] = df2['Metascore'].astype('int64')"
   ]
  },
  {
   "cell_type": "code",
   "execution_count": 19,
   "metadata": {
    "scrolled": true
   },
   "outputs": [
    {
     "data": {
      "text/plain": [
       "Text(0, 0.5, '')"
      ]
     },
     "execution_count": 19,
     "metadata": {},
     "output_type": "execute_result"
    },
    {
     "data": {
      "image/png": "[encoded data removed]",
      "text/plain": [
       "<Figure size 576x288 with 1 Axes>"
      ]
     },
     "metadata": {
      "needs_background": "light"
     },
     "output_type": "display_data"
    }
   ],
   "source": [
    "df_rating = df2.groupby('Title').sum()[['Metascore','Rating']].sort_values(by='Rating',ascending=True)\n",
    "df_rating.plot.barh(figsize=(8,4))\n",
    "plt.xlabel(\"Rating\", fontweight='bold')\n",
    "plt.ylabel('')"
   ]
  },
  {
   "cell_type": "markdown",
   "metadata": {},
   "source": [
    "## Conclusion 3\n",
    "\n",
    "To answers the hypothesis of Votes-Rating relationship of **Dune: Part One**, we can see that Dune has the highest Rating (74) from the Reputed Critics and highly favourable within Viewers (with the second highest Viewer's Rating)."
   ]
  }
 ],
 "metadata": {
  "kernelspec": {
   "display_name": "sparta-da",
   "language": "python",
   "name": "sparta-da"
  },
  "language_info": {
   "codemirror_mode": {
    "name": "ipython",
    "version": 3
   },
   "file_extension": ".py",
   "mimetype": "text/x-python",
   "name": "python",
   "nbconvert_exporter": "python",
   "pygments_lexer": "ipython3",
   "version": "3.9.12"
  }
 },
 "nbformat": 4,
 "nbformat_minor": 2
}
